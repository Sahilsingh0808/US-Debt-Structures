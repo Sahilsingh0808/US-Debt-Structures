{
  "nbformat": 4,
  "nbformat_minor": 0,
  "metadata": {
    "colab": {
      "name": "US_states.ipynb",
      "provenance": [],
      "authorship_tag": "ABX9TyM/sD4FoI3QCmZOBaXFpmMn",
      "include_colab_link": true
    },
    "kernelspec": {
      "name": "python3",
      "display_name": "Python 3"
    },
    "language_info": {
      "name": "python"
    }
  },
  "cells": [
    {
      "cell_type": "markdown",
      "metadata": {
        "id": "view-in-github",
        "colab_type": "text"
      },
      "source": [
        "<a href=\"https://colab.research.google.com/github/Sahilsingh0808/US-Debt-Structures/blob/main/US_states.ipynb\" target=\"_parent\"><img src=\"https://colab.research.google.com/assets/colab-badge.svg\" alt=\"Open In Colab\"/></a>"
      ]
    },
    {
      "cell_type": "markdown",
      "source": [
        "Import Sets"
      ],
      "metadata": {
        "id": "q7ybaxVrSN20"
      }
    },
    {
      "cell_type": "code",
      "execution_count": 4,
      "metadata": {
        "id": "5ho60RVSRvV3"
      },
      "outputs": [],
      "source": [
        "import pickle\n",
        "from os import walk\n",
        "import pandas as pd\n",
        "import os\n",
        "import re\n",
        "import numpy as np\n",
        "import matplotlib.pyplot as plt\n",
        "import matplotlib.image as mpimg\n",
        "import matplotlib.patches as patches\n",
        "import math\n",
        "import tabula"
      ]
    },
    {
      "cell_type": "markdown",
      "source": [
        "Declarations"
      ],
      "metadata": {
        "id": "VZHjQ3HxV86G"
      }
    },
    {
      "cell_type": "code",
      "source": [
        "tables=[]\n",
        "year=2020 #change year here\n",
        "state=\"alaska\" #change state here\n",
        "path =\"\"\n",
        "dataCopy=pd.DataFrame()\n",
        "finalData=pd.DataFrame(columns=['Due Year','Principal','Interest','Swap Net Payment','Total'])"
      ],
      "metadata": {
        "id": "Eg8sPwdfV_Eq"
      },
      "execution_count": 5,
      "outputs": []
    },
    {
      "cell_type": "markdown",
      "source": [
        "***Functions***"
      ],
      "metadata": {
        "id": "u7jDlbWSZrW_"
      }
    },
    {
      "cell_type": "markdown",
      "source": [
        "Identify Type of Table"
      ],
      "metadata": {
        "id": "Uu8bLZSRUG5z"
      }
    },
    {
      "cell_type": "code",
      "source": [
        "def identify_table(tabdata, yr, threshold):\n",
        "\n",
        "    indexcol = tabdata.iloc[:,0]    \n",
        "    valuelist  = [it for it  in indexcol.to_list() if it != \"\"]\n",
        "    count = 0\n",
        "    for ele in valuelist:\n",
        "        try:\n",
        "            newele = int(ele)\n",
        "            #print(newele)\n",
        "            if newele in list(range(yr,yr+30)):\n",
        "                count += 1\n",
        "        except:\n",
        "            pass\n",
        "    \n",
        "    if len(valuelist) == 1:\n",
        "        freq = count / (len(valuelist))\n",
        "    else:\n",
        "        freq = count / (len(valuelist) - 1)\n",
        "    \n",
        "    d_mattable=freq > threshold\n",
        "    if d_mattable:\n",
        "        concatStr=\"\"\n",
        "        rowC=tabdata.shape[0]\n",
        "        colC=len(tabdata.columns)\n",
        "        for k in range(0,rowC):\n",
        "            row=tabdata.iloc[k].to_list()\n",
        "            for l in range(0,len(row)):\n",
        "                concatStr+=str(row[l])+\" \"\n",
        "        findPrincipal=re.search(r\"principal\",concatStr,re.IGNORECASE)\n",
        "        findInterest=re.search(r\"interest\",concatStr,re.IGNORECASE)\n",
        "        if findPrincipal or findInterest:\n",
        "            return True\n",
        "        elif not findPrincipal and not findInterest:\n",
        "            return False\n",
        "    else:\n",
        "        return False"
      ],
      "metadata": {
        "id": "2DD7R9hYUF95"
      },
      "execution_count": null,
      "outputs": []
    },
    {
      "cell_type": "markdown",
      "source": [
        "Table ID"
      ],
      "metadata": {
        "id": "nf9YVGXuWat8"
      }
    },
    {
      "cell_type": "code",
      "source": [
        "def get_table_id(tab):\n",
        "    table_id=\"\"\n",
        "    table=tab[:-4]\n",
        "    for i in range(0,len(table)-3):\n",
        "        if table[i]==\"_\" and table[i+1]==\"i\" and table[i+2]==\"d\" and table[i+3]=='_':\n",
        "            table_id=table[i+1:len(table)-2]\n",
        "            break\n",
        "    return table_id"
      ],
      "metadata": {
        "id": "WAaUOMHKWdbi"
      },
      "execution_count": null,
      "outputs": []
    },
    {
      "cell_type": "markdown",
      "source": [
        "Repair df index"
      ],
      "metadata": {
        "id": "X5ycGJebW6nM"
      }
    },
    {
      "cell_type": "code",
      "source": [
        "def repair_dfindex(tabdata):\n",
        "    if tabdata.iloc[-1,0] == \"\":\n",
        "        tabdata.iloc[-1,0] = \"total\"\n",
        "    else:\n",
        "        pass\n",
        "    \n",
        "    \n",
        "    for idx,row in tabdata.iterrows():\n",
        "        \n",
        "        indexvalue = row.iloc[0]\n",
        "        indexvalue = indexvalue.strip().lower()\n",
        "        #print(indexvalue)\n",
        "\n",
        "        brokenhyphen = re.search(\"^(\\d{4})(\\s*)(\\d{4})$\",indexvalue)\n",
        "\n",
        "        if brokenhyphen:\n",
        "            #print(brokenhyphen)\n",
        "            newvalue = f\"{brokenhyphen.group(1)}-{brokenhyphen.group(3)}\"\n",
        "            tabdata.loc[idx,  tabdata.columns[0]  ] = newvalue\n",
        "\n",
        "    return tabdata"
      ],
      "metadata": {
        "id": "Yt011dMJW8_b"
      },
      "execution_count": null,
      "outputs": []
    },
    {
      "cell_type": "markdown",
      "source": [
        "Get Headings"
      ],
      "metadata": {
        "id": "99oG3ACIXKye"
      }
    },
    {
      "cell_type": "code",
      "source": [
        "def get_headings(data):\n",
        "    headings=[]\n",
        "    data_list=data.values.tolist()\n",
        "    for i in range(0,len(data_list)):\n",
        "        for j in range(0,len(data_list[i])):\n",
        "            if \"Year\" in str(data_list[i][j]) or \"year\" in str(data_list[i][j]):\n",
        "                if i==0:\n",
        "                    headings=data_list[i]\n",
        "                else:\n",
        "                    x=(data_list[i-1])\n",
        "                    y=(data_list[i])\n",
        "                    for j in range(0,min(len(x),len(y))):\n",
        "                        if y[j]!=\"\" and y[j]!=\"\\n\":\n",
        "                            headings.append(x[j]+\" \"+y[j])\n",
        "                   \n",
        "                break\n",
        "    return headings"
      ],
      "metadata": {
        "id": "H5u7-xRlXfGi"
      },
      "execution_count": null,
      "outputs": []
    },
    {
      "cell_type": "markdown",
      "source": [
        "Check Float"
      ],
      "metadata": {
        "id": "rXzWPWkqZcxQ"
      }
    },
    {
      "cell_type": "code",
      "source": [
        "def check_float(x):\n",
        "    try:\n",
        "        ff = float(x)\n",
        "        return True \n",
        "    except ValueError:\n",
        "        return False"
      ],
      "metadata": {
        "id": "4GJell0NZeML"
      },
      "execution_count": null,
      "outputs": []
    },
    {
      "cell_type": "markdown",
      "source": [
        "Check First Row"
      ],
      "metadata": {
        "id": "jqpMXEX5YpFX"
      }
    },
    {
      "cell_type": "code",
      "source": [
        "def check_firstrow(x):\n",
        "    # do some cleaning\n",
        "    x = x.replace(\"$\",\"\").replace(\"S\",\"\")\n",
        "    x = x.strip().lower()\n",
        "    \n",
        "    d_empty = x == \"\"\n",
        "    d_numeric = check_float(x)\n",
        "    \n",
        "    if  d_empty or not d_numeric:\n",
        "        return True\n",
        "    else:\n",
        "        return False"
      ],
      "metadata": {
        "id": "-AKCghGcYrJ3"
      },
      "execution_count": null,
      "outputs": []
    },
    {
      "cell_type": "markdown",
      "source": [
        "Adjust Colheader"
      ],
      "metadata": {
        "id": "hMT5JU0UYyc0"
      }
    },
    {
      "cell_type": "code",
      "source": [
        "def adjust_colheaderformat(x):\n",
        "    x = str(x)\n",
        "    x = x.strip().lower()\n",
        "    x = x.replace(\"-\",\"\").replace(\" \",\"_\").strip('\\''',').replace(',','')\n",
        "    x = x.replace(r\"(\",\"\")\n",
        "    x = x.replace(r\")\",\"\")\n",
        "    x = x.replace(r\"__\",\"_\").replace(r\"__\",\"_\")\n",
        "    return x"
      ],
      "metadata": {
        "id": "f-0jXu6wY18-"
      },
      "execution_count": null,
      "outputs": []
    },
    {
      "cell_type": "markdown",
      "source": [
        "Final Adj Colheader"
      ],
      "metadata": {
        "id": "YwhqdgnsY9P4"
      }
    },
    {
      "cell_type": "code",
      "source": [
        "def finaladj_colheader(x):\n",
        "    x = re.sub('^\\_', '', x)\n",
        "    x = re.sub('\\_$', '', x)\n",
        "    return x"
      ],
      "metadata": {
        "id": "trUVo8C7ZALj"
      },
      "execution_count": null,
      "outputs": []
    },
    {
      "cell_type": "markdown",
      "source": [
        "Get Colheader"
      ],
      "metadata": {
        "id": "qYzD8QGUXfks"
      }
    },
    {
      "cell_type": "code",
      "source": [
        "def get_colheader(tabdata, camelot):\n",
        "    if camelot:\n",
        "        dflist = tabdata.values.tolist()\n",
        "    else:\n",
        "        dflist = [list(tabdata.columns)] + tabdata.values.tolist()\n",
        "    \n",
        "    rowindex = 0\n",
        "    \n",
        "    while check_firstrow(dflist[rowindex][0]) and rowindex < len(dflist):\n",
        "        rowindex += 1\n",
        "    \n",
        "    if rowindex > 0:\n",
        "        # print(\"Multicolumn header\")\n",
        "        newcolsdict = {0:\"\"}\n",
        "        for i in range(1,len(tabdata.columns)):\n",
        "            aux_header = \"_\".join( [ adjust_colheaderformat(dflist[rowidx][i]) for rowidx in range(rowindex) ] ) \n",
        "            \n",
        "            header =  finaladj_colheader(aux_header )\n",
        "            \n",
        "            newcolsdict.update({i:  header })    \n",
        "        \n",
        "    else:\n",
        "        newcolsdict = dict([[idx, adjust_colheaderformat(col) ] for idx,col in enumerate(tabdata.columns)])\n",
        "        \n",
        "    return newcolsdict"
      ],
      "metadata": {
        "id": "AO2D1pOxXiRL"
      },
      "execution_count": null,
      "outputs": []
    },
    {
      "cell_type": "markdown",
      "source": [
        "Delete Empty Rows"
      ],
      "metadata": {
        "id": "-7yAZEFAXili"
      }
    },
    {
      "cell_type": "code",
      "source": [
        "def delete_empty_rows(data):\n",
        "    data =data.dropna(axis=0, how='all', inplace=True) \n",
        "    return data"
      ],
      "metadata": {
        "id": "sO51ko_kXmvn"
      },
      "execution_count": null,
      "outputs": []
    },
    {
      "cell_type": "markdown",
      "source": [
        "Delete Empty Columns"
      ],
      "metadata": {
        "id": "D1LEV4aLZGMH"
      }
    },
    {
      "cell_type": "code",
      "source": [
        "def delete_empty_columns(data,headings):\n",
        "    # rowC=data.shape[0]\n",
        "    # colC=len(data.columns)\n",
        "    # for i in range(0,colC):\n",
        "    #     for j in range(0,rowC):\n",
        "    #         try:\n",
        "    #             print(str(data[i][j]))\n",
        "    #         except:\n",
        "    #             pass\n",
        "    cols = data.columns.tolist()\n",
        "    for i in range(1,len(cols)):\n",
        "        try:\n",
        "            column=data[cols[i]]\n",
        "            # print((column))\n",
        "            sum=0.0\n",
        "            for j in range(0,len(column)):\n",
        "                try:\n",
        "                    cell=float(column[j])\n",
        "                    sum+=cell\n",
        "                except:\n",
        "                    pass\n",
        "            if sum==0.0:\n",
        "                # print(\"FOUND EMPTY COLUMN\")\n",
        "                # print(i)\n",
        "                if \"principal\" in str(headings[i]).lower() or \"interest\" in str(headings[i]).lower() or \"total\" in str(headings[i]).lower() or \"swap\" in str(headings[i]).lower() or \"net\" in str(headings[i]).lower():\n",
        "                    pass\n",
        "                else:                    \n",
        "                    data=data.drop(cols[i],axis=1)\n",
        "        except:\n",
        "            pass\n",
        "        \n",
        "        # for j in range(0,len(column)):\n",
        "        #     sum+=float(column[j])\n",
        "        # if sum==0.0:\n",
        "        #     data=data.drop(columns=cols[i])\n",
        "            # if type(column[j])!=float and type(column[j])!=int:\n",
        "            #     print(column[j])\n",
        "    return data"
      ],
      "metadata": {
        "id": "hzyY5cobZH40"
      },
      "execution_count": null,
      "outputs": []
    },
    {
      "cell_type": "markdown",
      "source": [
        "Check String"
      ],
      "metadata": {
        "id": "lF8vOFMhZQuA"
      }
    },
    {
      "cell_type": "code",
      "source": [
        "def checkString(str1):\n",
        "   \n",
        "    # initializing flag variable\n",
        "    flag_l = False\n",
        "    flag_n = False\n",
        "     \n",
        "    # checking for letter and numbers in\n",
        "    # given string\n",
        "    for i in str1:\n",
        "       \n",
        "        # if string has letter\n",
        "        if i.isalpha():\n",
        "            flag_l = True\n",
        " \n",
        "        # if string has number\n",
        "        if i.isdigit():\n",
        "            flag_n = True\n",
        "     \n",
        "    # returning and of flag\n",
        "    # for checking required condition\n",
        "    return flag_l or flag_n"
      ],
      "metadata": {
        "id": "Llp454z5ZSxi"
      },
      "execution_count": null,
      "outputs": []
    },
    {
      "cell_type": "markdown",
      "source": [
        "Delete Empty Rows Values"
      ],
      "metadata": {
        "id": "D-395yJZXnMY"
      }
    },
    {
      "cell_type": "code",
      "source": [
        "def delete_empty_rows_values(data):\n",
        "    data_list=data.values.tolist()\n",
        "    for i in range(0,len(data_list)):\n",
        "        if data_list[i]==[]:\n",
        "            data=data.drop(data.index[i])\n",
        "        elif data_list[i]==[np.nan]:\n",
        "            data=data.drop(data.index[i])\n",
        "        cc=0\n",
        "        for j in range(0,len(data_list[i])):\n",
        "\n",
        "            # print(data_list[i][j])\n",
        "            if checkString(str(data_list[i][j]))==False or data_list[i][j]==\"0.0\" or data_list[i][j]==\"0\":\n",
        "                cc+=1\n",
        "            # if checkString(str(data_list[i][j]))==False:\n",
        "            #     data[i][j]=\"0\"\n",
        "        \n",
        "        if cc==(len(data_list[i])-1):\n",
        "            data=data.drop(data.index[i])\n",
        "    return data\n"
      ],
      "metadata": {
        "id": "1EGIJSjHXqih"
      },
      "execution_count": null,
      "outputs": []
    },
    {
      "cell_type": "markdown",
      "source": [
        "Correct Numbers Table"
      ],
      "metadata": {
        "id": "rlcZ2KpQXr7F"
      }
    },
    {
      "cell_type": "code",
      "source": [
        "def correct_numbers_table(data):\n",
        "    rowC=data.shape[0]\n",
        "    colC=len(data.columns)\n",
        "    for i in range(1,colC):\n",
        "        for j in range(0,rowC):\n",
        "            cell=str(data[i][j])\n",
        "            newNum=\"\"\n",
        "            for k in cell:\n",
        "                if k.isdigit()==True or k=='.':\n",
        "                    newNum+=k\n",
        "            data[i][j]=newNum\n",
        "    return data"
      ],
      "metadata": {
        "id": "P6Oi4afJXvy1"
      },
      "execution_count": null,
      "outputs": []
    },
    {
      "cell_type": "markdown",
      "source": [
        "Interpolate"
      ],
      "metadata": {
        "id": "Xa7t2zsAXwHl"
      }
    },
    {
      "cell_type": "code",
      "source": [
        "def interpolate(data):\n",
        "    rowC=data.shape[0]\n",
        "    colC=len(data.columns)\n",
        "    data_list = data.values.tolist()\n",
        "    \n",
        "    \n",
        "    for i in range(0,len(data_list[0])):\n",
        "        for j in range(0,len(data_list)):\n",
        "            #changing null values to 0\n",
        "            if data_list[j][i]=='':\n",
        "                data_list[j][i]=0.0\n",
        "            #converting string values to numbers\n",
        "            try:\n",
        "                if i>0:\n",
        "                    data_list[j][i]=float(data_list[j][i])\n",
        "            except:\n",
        "                print(\"ERROR \"+data_list[j][i])\n",
        "    data=pd.DataFrame(data_list)\n",
        "    insertL=[[]]\n",
        "    for i in range(0,len(data_list)):\n",
        "        # print(data_list[i])\n",
        "        year=str(data_list[i][0])\n",
        "        if(len(year)>4):\n",
        "            years=year.split(\"-\")\n",
        "            starting_year=int(years[0])\n",
        "            ending_year=int(years[1])\n",
        "            diff=int(ending_year-starting_year+1)\n",
        "            insert_list=[]\n",
        "            \n",
        "            for j in range(1,len(data_list[0])):\n",
        "                cell=data_list[i][j]\n",
        "                # print(cell)\n",
        "                insert_list.append(cell/diff)\n",
        "            # print(insert_list)\n",
        "\n",
        "            for j in range(0,diff):\n",
        "                yr=str(starting_year+j)\n",
        "                insert_list.insert(0,yr)\n",
        "                # print(insert_list)\n",
        "                data.loc[len(data)] = insert_list\n",
        "                # insertL.append(insert_list)\n",
        "                insert_list.pop(0)\n",
        "            # print(insertL)\n",
        "            insert_list.clear()\n",
        "\n",
        "    data_list1=data.values.tolist()\n",
        "    for i in range(0,len(data_list1)):\n",
        "    # print(data_list[i])\n",
        "        year=str(data_list1[i][0])\n",
        "        if(len(year)>4):\n",
        "            # print(year)\n",
        "            data=data.drop(index=i)      \n",
        "\n",
        "    # print(data_list)\n",
        "\n",
        "    # for i in range(0,rowC):\n",
        "    #     year=str(data[0][i])\n",
        "    #     print(year)\n",
        "    #     if(len(year)>4):\n",
        "    #         years=year.split(\"-\")\n",
        "    #         starting_year=int(years[0])\n",
        "    #         ending_year=int(years[1])\n",
        "    #         diff=ending_year-starting_year+1\n",
        "    #         insert_list=[]\n",
        "    #         for j in range(1,colC):\n",
        "    #             # if re.match(r'^-?\\d+(?:\\.\\d+)$', data[i][j]) is None:\n",
        "    #             #     print (\"Not float\")\n",
        "    #             # else:\n",
        "    #             #     insert_list.append(data[i][j]/diff)\n",
        "    #             try:\n",
        "    #                 print((data[i][j]))\n",
        "    #                 insert_list.append(int(data[i][j])/diff)\n",
        "    #             except:\n",
        "    #                 pass\n",
        "    #         print(insert_list)\n",
        "\n",
        "    return data\n"
      ],
      "metadata": {
        "id": "uwFj7B3FXxXS"
      },
      "execution_count": null,
      "outputs": []
    },
    {
      "cell_type": "markdown",
      "source": [
        "Delete Empty Columns Extra"
      ],
      "metadata": {
        "id": "Gd5jW-s0Xxvw"
      }
    },
    {
      "cell_type": "code",
      "source": [
        "def delete_empty_columns_extra(data,extra):\n",
        "    cc=0\n",
        "    # rowC=data.shape[0]\n",
        "    # colC=len(data.columns)\n",
        "    # for i in range(0,colC):\n",
        "    #     for j in range(0,rowC):\n",
        "    #         try:\n",
        "    #             print(str(data[i][j]))\n",
        "    #         except:\n",
        "    #             pass\n",
        "    cols = data.columns.tolist()\n",
        "    for i in range(1,len(cols)):\n",
        "        try:\n",
        "            column=data[cols[i]]\n",
        "            # print((column))\n",
        "            sum=0.0\n",
        "            for j in range(0,len(column)):\n",
        "                try:\n",
        "                    cell=float(column[j])\n",
        "                    sum+=cell\n",
        "                except:\n",
        "                    pass\n",
        "            if sum==0.0 and cc<extra:\n",
        "                # print(\"FOUND EMPTY COLUMN\")\n",
        "                # print(i)\n",
        "                cc+=1             \n",
        "                data=data.drop(cols[i],axis=1)\n",
        "        except:\n",
        "            pass\n",
        "        \n",
        "        # for j in range(0,len(column)):\n",
        "        #     sum+=float(column[j])\n",
        "        # if sum==0.0:\n",
        "        #     data=data.drop(columns=cols[i])\n",
        "            # if type(column[j])!=float and type(column[j])!=int:\n",
        "            #     print(column[j])\n",
        "    return data"
      ],
      "metadata": {
        "id": "cX1mfX7tX2On"
      },
      "execution_count": null,
      "outputs": []
    },
    {
      "cell_type": "markdown",
      "source": [
        "Format Headings"
      ],
      "metadata": {
        "id": "cqdRQ4GiX2sA"
      }
    },
    {
      "cell_type": "code",
      "source": [
        "def format_headings(headings):\n",
        "    \n",
        "    for i in range(0,len(headings)):\n",
        "        headings[i]=headings[i].replace(\"_\",\" \")\n",
        "        headings[i]=headings[i].replace(\"/\",\" \")\n",
        "        headings[i]=headings[i].replace(\"\\\\\",\" \")\n",
        "        headings[i].strip()\n",
        "        \n",
        "        headings[i]=headings[i].lower()\n",
        "        if \"principal\" in headings[i]:\n",
        "            headings[i]=\"Principal\"\n",
        "        elif \"interest\" in headings[i]:\n",
        "            headings[i]=\"Interest\"\n",
        "        elif \"total\" in headings[i]:\n",
        "            headings[i]=\"Total\"\n",
        "        elif \"swap net\" in headings[i]:\n",
        "            headings[i]=\"Swap Net Payment\"\n",
        "        elif \"operating leases\" in headings[i]:\n",
        "            headings[i]=\"Total\"\n",
        "            \n",
        "\n",
        "    headings[0]=\"Due Year\"\n",
        "\n",
        "    return headings"
      ],
      "metadata": {
        "id": "_CBmxLbBYdjj"
      },
      "execution_count": null,
      "outputs": []
    },
    {
      "cell_type": "markdown",
      "source": [
        "Filenames"
      ],
      "metadata": {
        "id": "k2ggsxYaVsf1"
      }
    },
    {
      "cell_type": "code",
      "source": [
        "filenames = next(walk(r'{path}'), (None, None, []))[2] \n",
        "print(filenames)"
      ],
      "metadata": {
        "id": "BTyLB-oPUOUy",
        "colab": {
          "base_uri": "https://localhost:8080/"
        },
        "outputId": "4a84bf4f-6f6c-4209-b7b8-08dd9ab542f7"
      },
      "execution_count": 7,
      "outputs": [
        {
          "output_type": "stream",
          "name": "stdout",
          "text": [
            "[]\n"
          ]
        }
      ]
    },
    {
      "cell_type": "markdown",
      "source": [
        "Restricting to a particular state"
      ],
      "metadata": {
        "id": "x8tvn_BLWk3U"
      }
    },
    {
      "cell_type": "code",
      "source": [
        "for i in range(0,len(filenames)):\n",
        "    try:\n",
        "        if state in str(filenames[i]):\n",
        "            continue\n",
        "        else:\n",
        "            filenames[i]=None\n",
        "    except:\n",
        "        pass\n",
        "filenames = list(filter(None, filenames))"
      ],
      "metadata": {
        "id": "RDLkDN6WWnHD"
      },
      "execution_count": null,
      "outputs": []
    },
    {
      "cell_type": "markdown",
      "source": [
        "Final Algorithm"
      ],
      "metadata": {
        "id": "wMVGqu81Wy6O"
      }
    },
    {
      "cell_type": "code",
      "source": [
        "for i in range(len(filenames)):\n",
        "    with open(f\"C:\\\\Users\\\\sahil\\\\Dropbox\\\\MigrationData\\\\rawtablesnew\\\\{filenames[i]}\", 'rb') as f:\n",
        "        data = pickle.load(f)\n",
        "        table_id=get_table_id(filenames[i])\n",
        "        tables.append(data)\n",
        "        d_mattable=identify_table(data, year, threshold = .2)\n",
        "        if d_mattable:\n",
        "\n",
        "            #repair index\n",
        "            data=repair_dfindex(data)\n",
        "\n",
        "            dataCopy=data\n",
        "\n",
        "            #column headers\n",
        "            headings=get_headings(data)\n",
        "            \n",
        "            newcolsdict = get_colheader(data,camelot=True)\n",
        "\n",
        "            # print(data)\n",
        "            print(newcolsdict)\n",
        "            print(table_id)\n",
        "            \n",
        "            #print whole table\n",
        "            with pd.option_context('display.max_rows', None, 'display.max_columns', None):\n",
        "\n",
        "                #delete a completely empty row\n",
        "                delete_empty_rows(data)  \n",
        "                rowC=data.shape[0]\n",
        "                colC=len(data.columns)\n",
        "\n",
        "                data_list=data.values.tolist()\n",
        "\n",
        "                #ignoring the starting useless rows of the dataframe\n",
        "                for i in range(0,len(data_list)):\n",
        "                    for j in range(0,len(data_list[i])):\n",
        "                        cell=str(data_list[i][j])\n",
        "                        if \"Year\" in cell or \"year\" in cell:\n",
        "                            data=(data.iloc[i+1:,])\n",
        "                            # print(data)\n",
        "                            break\n",
        "\n",
        "                data=repair_dfindex(data)\n",
        "                data=data.reset_index(drop=True)\n",
        "\n",
        "                #ignoring the ending useless rows of the dataframe\n",
        "                data_list=data.values.tolist()\n",
        "                for i in range(0,len(data_list)):\n",
        "                    for j in range(0,len(data_list[i])):\n",
        "                        cell=str(data_list[i][j])\n",
        "                        if \"Total\" in cell or \"total\" in cell:\n",
        "                            data=(data.iloc[:i,])\n",
        "                            break\n",
        "\n",
        "                data=delete_empty_rows_values(data)                     \n",
        "                \n",
        "                \n",
        "\n",
        "                for i in range(0,len(data.columns)):\n",
        "                    for j in range(0,data.shape[0]):\n",
        "                        try:\n",
        "                            cell=(data[i][j])\n",
        "                            if(pd.isnull(cell)) or cell=='\\n':\n",
        "                                data[i][j]=np.nan\n",
        "                            if ord(cell)==8212 or ord(cell)==36:\n",
        "                                data[i][j]=np.nan\n",
        "                        except:\n",
        "                            pass\n",
        "                        \n",
        "               \n",
        "                data=correct_numbers_table(data)\n",
        "                data=interpolate(data)\n",
        "\n",
        "\n",
        "                # mattype=[]\n",
        "                # for i in range(0,data.shape[0]):\n",
        "                #     mattype.append(\"year\")\n",
        "                # data[\"mattype\"]=mattype\n",
        "                \n",
        "\n",
        "                #convert entries to float\n",
        "                data=data.astype(float)\n",
        "\n",
        "                #format headings name\n",
        "\n",
        "                # if newcolsdict[0]==\"\":\n",
        "                #     newcolsdict[0]=\"Year\"\n",
        "                # x=newcolsdict.values()\n",
        "                # data.columns=list(x)\n",
        "\n",
        "                principalCount=0\n",
        "                interestCount=0\n",
        "                totalCount=0\n",
        "                otherCount=0\n",
        "                swapCount=0\n",
        "\n",
        "                principalIndex=[]\n",
        "                interestIndex=[]\n",
        "                totalIndex=[]\n",
        "                otherIndex=[]\n",
        "                swapIndex=[]\n",
        "\n",
        "                data=delete_empty_columns(data,headings)\n",
        "\n",
        "                while(\"\" in headings) :\n",
        "                    headings.remove(\"\")\n",
        "\n",
        "                print(headings)\n",
        "\n",
        "                for i in range(0,len(headings)):\n",
        "                    head=str(headings[i])\n",
        "                    head=head.lower()\n",
        "                    if head==\"\" or head==\"\\n\":\n",
        "                        continue\n",
        "                    elif \"principal\" in head:\n",
        "                        principalCount+=1\n",
        "                        principalIndex.append(i)\n",
        "                    elif \"interest\" in head:\n",
        "                        interestCount+=1\n",
        "                        interestIndex.append(i)\n",
        "                    elif \"total\" in head:\n",
        "                        totalCount+=1\n",
        "                        totalIndex.append(i)\n",
        "                    elif \"swap\" in head or \"net\" in head:\n",
        "                        swapCount+=1\n",
        "                        swapIndex.append(i)\n",
        "                    else:\n",
        "                        otherCount+=1 \n",
        "                        otherIndex.append(i) \n",
        "\n",
        "       \n",
        "                columnCount=principalCount+interestCount+totalCount+otherCount+swapCount\n",
        "                if(len(data.columns)==columnCount):\n",
        "                    print(\"MATCHES\")\n",
        "                else:\n",
        "                    extra=len(data.columns)-columnCount\n",
        "                    data=delete_empty_columns_extra(data,extra)\n",
        "                print(len(data.columns))\n",
        "                print(principalCount,interestCount,swapCount,totalCount,otherCount)\n",
        "                \n",
        "\n",
        "                headings=format_headings(headings)\n",
        "                print(headings)\n",
        "\n",
        "\n",
        "                if(len(data.columns)==columnCount):\n",
        "                    data.columns=headings\n",
        "                    \n",
        "                yearsCol=data.iloc[:, 0]\n",
        "\n",
        "                principalInd=[]\n",
        "                for i in range(0,len(headings)):\n",
        "                    if \"Principal\" in headings[i]:\n",
        "                        principalInd.append(i)\n",
        "\n",
        "                print(principalInd)\n",
        "\n",
        "                data=data.iloc[:,1:]\n",
        "\n",
        "                if table_id==\"id_p127_1\":\n",
        "                    col_list = list(data)\n",
        "                    x=data.iloc[:,3]\n",
        "                    y=data.iloc[:,4]\n",
        "                    data.iloc[:,4]=x\n",
        "                    data.iloc[:,3]=np.zeros(len(x))\n",
        "\n",
        "                \n",
        "                if len(principalInd)==1:\n",
        "                    x=data.iloc[:,:principalInd[0]-1]\n",
        "                    y=data.iloc[:,principalInd[0]-1:]\n",
        "                    \n",
        "                    if x.empty==False:\n",
        "                        x.insert(loc=0, column='Due Year', value=yearsCol)\n",
        "                        finalData.append(x)\n",
        "                        print(x)\n",
        "                    if y.empty==False:\n",
        "                        y.insert(loc=0, column='Due Year', value=yearsCol)\n",
        "                        finalData.append(y)\n",
        "                        print(y)\n",
        "                        \n",
        "\n",
        "                else:                \n",
        "                    for i in range(0,len(principalInd)-1):\n",
        "                        a=principalInd[i]\n",
        "                        b=principalInd[i+1]\n",
        "                        x=data.iloc[:,:a-1]\n",
        "                        y=data.iloc[:,a-1:b-1]\n",
        "                        \n",
        "                        if x.empty==False:\n",
        "                            x.insert(loc=0, column='Due Year', value=yearsCol)\n",
        "                            finalData.append(x)\n",
        "                            print(x)\n",
        "                        if y.empty==False:\n",
        "                            y.insert(loc=0, column='Due Year', value=yearsCol)\n",
        "                            finalData.append(y)\n",
        "                            print(y)\n",
        "                    z=data.iloc[:,principalInd[-1]-1:]\n",
        "                    \n",
        "                    if z.empty==False:\n",
        "                        z.insert(loc=0, column='Due Year', value=yearsCol)\n",
        "                        finalData.append(z)\n",
        "                        print(z)\n",
        "                \n",
        "                print(finalData)"
      ],
      "metadata": {
        "id": "xL032MHEW0nX"
      },
      "execution_count": null,
      "outputs": []
    }
  ]
}